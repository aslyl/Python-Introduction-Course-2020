{
 "cells": [
  {
   "cell_type": "markdown",
   "metadata": {},
   "source": [
    "# Print() Fonksiyonu"
   ]
  },
  {
   "cell_type": "markdown",
   "metadata": {},
   "source": [
    "Bir programın en temel fonksiyonlarından birisi ekrana çıktı vermektir. Python'da ekrana output bastırmak için print() fonksiyonu kullanılır:"
   ]
  },
  {
   "cell_type": "markdown",
   "metadata": {},
   "source": [
    "print() fonksiyonu aracılığıyla ekrana farklı veri tipleri bastırılabilir. Bunlardan en sık kullanılanı stringlerdir. print() fonksiyonu ile ekrana string bastırmak için bastırılacak stringin \" \" işaretleri arasına yazılması gerekmektedir."
   ]
  },
  {
   "cell_type": "code",
   "execution_count": 9,
   "metadata": {},
   "outputs": [
    {
     "name": "stdout",
     "output_type": "stream",
     "text": [
      "Hello World!\n"
     ]
    }
   ],
   "source": [
    "print(\"Hello World!\")"
   ]
  },
  {
   "cell_type": "markdown",
   "metadata": {},
   "source": [
    "print() fonksiyonu ile aynı zamanda matematiksel işlemlerin sonucu da bastırılabilir:"
   ]
  },
  {
   "cell_type": "code",
   "execution_count": 1,
   "metadata": {},
   "outputs": [
    {
     "name": "stdout",
     "output_type": "stream",
     "text": [
      "8\n"
     ]
    }
   ],
   "source": [
    "print(3+5)"
   ]
  },
  {
   "cell_type": "markdown",
   "metadata": {},
   "source": [
    "# Commentler"
   ]
  },
  {
   "cell_type": "markdown",
   "metadata": {},
   "source": [
    "Yazdığımız kod satırları arasında çalışmasını istemediğimiz satırlar olabilir. Bu durumda derleyici tarafından görülmesini istemediğimiz satırın başına '#' işareti koyduğumuz takdirde bu satır çalıştırılmayacaktır: "
   ]
  },
  {
   "cell_type": "code",
   "execution_count": 7,
   "metadata": {},
   "outputs": [
    {
     "name": "stdout",
     "output_type": "stream",
     "text": [
      "Hoşgeldiniz!\n"
     ]
    }
   ],
   "source": [
    "#print(\"Python Programlama Kursu\") \n",
    "print(\"Hoşgeldiniz!\") "
   ]
  },
  {
   "cell_type": "markdown",
   "metadata": {},
   "source": [
    "Yukarıda da görüldüğü gibi commente alınan ilk satırda yazan \"Python Programlama Kursu\" ifadesi print() fonksiyonu tarafından ekrana bastırılmazken, alt satırdaki \"Hoşgeldiniz!\" ifadesi program tarafından çalıştırıldı."
   ]
  },
  {
   "cell_type": "code",
   "execution_count": null,
   "metadata": {},
   "outputs": [],
   "source": [
    "print(\"Hoşgeldiniz!\")   #Ekrana \"Hoşgeldiniz!\" ifadesi bastırılacak."
   ]
  },
  {
   "cell_type": "markdown",
   "metadata": {},
   "source": [
    "Commentlerin bir diğer işlevi ise yazılan kodun anlaşılabilirliğini artırmak amacıyla programdaki satırların işlevlerini yanına not almaktır."
   ]
  },
  {
   "cell_type": "markdown",
   "metadata": {},
   "source": [
    "# Değişkenler"
   ]
  },
  {
   "cell_type": "markdown",
   "metadata": {},
   "source": [
    "Değişkenler programlamada en sık kullanılan elemanlar arasında yer almaktadır. Değişkenler program içerisinde veri tutma görevini üstlenirler. İçlerinde tuttukları değer sonradan değiştirilebilir veya bu değer başka bir amaçla kullanılabilir."
   ]
  },
  {
   "cell_type": "markdown",
   "metadata": {},
   "source": [
    "### Değişken Tanımlama"
   ]
  },
  {
   "cell_type": "markdown",
   "metadata": {},
   "source": [
    "Değişken tanımlarken dikkat etmemiz gereken birtakım kurallar var. Öncelikle basit bir değişken tanımlama örneği gösterelim:"
   ]
  },
  {
   "cell_type": "code",
   "execution_count": 3,
   "metadata": {},
   "outputs": [],
   "source": [
    "a = 15   # Bu satırda a değişkenine 15 değerini atadık."
   ]
  },
  {
   "cell_type": "code",
   "execution_count": 4,
   "metadata": {},
   "outputs": [
    {
     "name": "stdout",
     "output_type": "stream",
     "text": [
      "15\n"
     ]
    }
   ],
   "source": [
    "print(a) # Bu satırda ise a değişkeninin değerini yazdırdık."
   ]
  },
  {
   "cell_type": "markdown",
   "metadata": {},
   "source": [
    "Değişkenin adı = Değişkenin alacağı değer"
   ]
  },
  {
   "cell_type": "markdown",
   "metadata": {},
   "source": [
    "Değişken tanımlamayı yukarıdaki gibi gösterebiliriz. Ancak buradaki '=' işareti matematikteki eşitlik anlamından \n",
    "ziyade atama anlamı taşımaktadır. \n"
   ]
  },
  {
   "cell_type": "markdown",
   "metadata": {},
   "source": [
    "Tek satırda birden fazla değişkene değer ataması yapılabilir:"
   ]
  },
  {
   "cell_type": "code",
   "execution_count": 12,
   "metadata": {},
   "outputs": [
    {
     "name": "stdout",
     "output_type": "stream",
     "text": [
      "3\n",
      "5\n"
     ]
    }
   ],
   "source": [
    "a, b = 3,5\n",
    "print(a)\n",
    "print(b)"
   ]
  },
  {
   "cell_type": "markdown",
   "metadata": {},
   "source": [
    "  "
   ]
  },
  {
   "cell_type": "markdown",
   "metadata": {},
   "source": [
    "\n",
    "Bu aşamada değişkenimize vereceğimiz ad konusunda dikkatli ve açık olmalıyız. Bu konuda da bazı kurallar mevcut:"
   ]
  },
  {
   "cell_type": "markdown",
   "metadata": {},
   "source": [
    "#### 1) Değişken adının içinde boşluk bulunamaz."
   ]
  },
  {
   "cell_type": "code",
   "execution_count": 3,
   "metadata": {},
   "outputs": [
    {
     "ename": "SyntaxError",
     "evalue": "invalid syntax (<ipython-input-3-ad46b0ee513e>, line 1)",
     "output_type": "error",
     "traceback": [
      "\u001b[1;36m  File \u001b[1;32m\"<ipython-input-3-ad46b0ee513e>\"\u001b[1;36m, line \u001b[1;32m1\u001b[0m\n\u001b[1;33m    hava sıcaklığı = 34\u001b[0m\n\u001b[1;37m         ^\u001b[0m\n\u001b[1;31mSyntaxError\u001b[0m\u001b[1;31m:\u001b[0m invalid syntax\n"
     ]
    }
   ],
   "source": [
    "hava sıcaklığı = 34\n",
    "\n",
    "print(hava sıcaklığı)"
   ]
  },
  {
   "cell_type": "markdown",
   "metadata": {},
   "source": [
    "Bu şekilde adlandırılmış bir değişken çalışmayıp hata verecektir."
   ]
  },
  {
   "cell_type": "markdown",
   "metadata": {},
   "source": [
    "Birden fazla kelimeden oluşmasını istediğiniz değişken adlarını bitişik olacak biçimde yazmak durumundasınız."
   ]
  },
  {
   "cell_type": "code",
   "execution_count": 4,
   "metadata": {},
   "outputs": [
    {
     "name": "stdout",
     "output_type": "stream",
     "text": [
      "34\n"
     ]
    }
   ],
   "source": [
    "havasıcaklığı = 34\n",
    "\n",
    "print(havasıcaklığı)"
   ]
  },
  {
   "cell_type": "markdown",
   "metadata": {},
   "source": [
    "Burda kelimeleri bitişik yazdığımızda oluşabilecek kargaşayı önlemek için iki farklı yönteme başvurabiliriz"
   ]
  },
  {
   "cell_type": "code",
   "execution_count": 5,
   "metadata": {},
   "outputs": [
    {
     "name": "stdout",
     "output_type": "stream",
     "text": [
      "34\n"
     ]
    }
   ],
   "source": [
    "havaSıcaklığı = 34 # Python'da büyük-küçük harf duyarlılığı vardır.\n",
    "\n",
    "print(havaSıcaklığı)"
   ]
  },
  {
   "cell_type": "code",
   "execution_count": 6,
   "metadata": {},
   "outputs": [
    {
     "name": "stdout",
     "output_type": "stream",
     "text": [
      "34\n"
     ]
    }
   ],
   "source": [
    "hava_sıcaklığı = 34 # Kelimelerin arasına noktalama işareti koyularak karışıklık azaltılabilir.\n",
    "\n",
    "print(hava_sıcaklığı)"
   ]
  },
  {
   "cell_type": "markdown",
   "metadata": {},
   "source": [
    "#### 2) Değişken adı konarken anahtar kelimeler kullanamazsınız."
   ]
  },
  {
   "cell_type": "code",
   "execution_count": 15,
   "metadata": {},
   "outputs": [
    {
     "ename": "SyntaxError",
     "evalue": "invalid syntax (<ipython-input-15-acea8714d593>, line 1)",
     "output_type": "error",
     "traceback": [
      "\u001b[1;36m  File \u001b[1;32m\"<ipython-input-15-acea8714d593>\"\u001b[1;36m, line \u001b[1;32m1\u001b[0m\n\u001b[1;33m    if = \"merhaba\" #Burada Python'da kullanılan bir anahtar kelime olan if'e \"merhaba\" string değerine atamaya çalışıyoruz.\u001b[0m\n\u001b[1;37m       ^\u001b[0m\n\u001b[1;31mSyntaxError\u001b[0m\u001b[1;31m:\u001b[0m invalid syntax\n"
     ]
    }
   ],
   "source": [
    "if = \"merhaba\" #Burada Python'da kullanılan bir anahtar kelime olan if'e \"merhaba\" string değerine atamaya çalışıyoruz."
   ]
  },
  {
   "cell_type": "markdown",
   "metadata": {},
   "source": [
    "Burada \"if\" Python dilinde kullanılan anahtar kelimelerden biri olduğundan hata aldık."
   ]
  },
  {
   "cell_type": "markdown",
   "metadata": {},
   "source": [
    "#### 3) Değişkenler adlarının içinde sayı bulunabilir fakat değişken adları sayı ile başlayamaz."
   ]
  },
  {
   "cell_type": "code",
   "execution_count": 8,
   "metadata": {},
   "outputs": [
    {
     "ename": "SyntaxError",
     "evalue": "invalid syntax (<ipython-input-8-096078785a38>, line 1)",
     "output_type": "error",
     "traceback": [
      "\u001b[1;36m  File \u001b[1;32m\"<ipython-input-8-096078785a38>\"\u001b[1;36m, line \u001b[1;32m1\u001b[0m\n\u001b[1;33m    1sayı = 18\u001b[0m\n\u001b[1;37m     ^\u001b[0m\n\u001b[1;31mSyntaxError\u001b[0m\u001b[1;31m:\u001b[0m invalid syntax\n"
     ]
    }
   ],
   "source": [
    "1sayı = 18"
   ]
  },
  {
   "cell_type": "markdown",
   "metadata": {},
   "source": [
    "Değişkenler tanımlanırken işlemler de yapılabilir. Örneğin bir değişkene iki sayının toplamını atayabiliriz."
   ]
  },
  {
   "cell_type": "code",
   "execution_count": 1,
   "metadata": {},
   "outputs": [
    {
     "name": "stdout",
     "output_type": "stream",
     "text": [
      "8\n"
     ]
    }
   ],
   "source": [
    "toplam = 3+5\n",
    "\n",
    "print(toplam)"
   ]
  },
  {
   "cell_type": "markdown",
   "metadata": {},
   "source": [
    "Aynı zamanda diğer değişkenler ile yaptığımız işlemlerin sonucunu da bir başka değişkene atayabiliriz."
   ]
  },
  {
   "cell_type": "code",
   "execution_count": 10,
   "metadata": {},
   "outputs": [
    {
     "name": "stdout",
     "output_type": "stream",
     "text": [
      "25\n"
     ]
    }
   ],
   "source": [
    "a = 12\n",
    "b = 13\n",
    "\n",
    "c = a+b\n",
    "\n",
    "print(c)"
   ]
  },
  {
   "cell_type": "markdown",
   "metadata": {},
   "source": [
    "Daha kompleks bir örnek vermemiz gerekirse:"
   ]
  },
  {
   "cell_type": "code",
   "execution_count": 11,
   "metadata": {},
   "outputs": [
    {
     "name": "stdout",
     "output_type": "stream",
     "text": [
      "6\n"
     ]
    }
   ],
   "source": [
    "a = 4\n",
    "b = 6\n",
    "\n",
    "c = 3*(a+b) - a*b\n",
    "\n",
    "print(c)"
   ]
  },
  {
   "cell_type": "markdown",
   "metadata": {},
   "source": [
    "Değişkenlere atayabildiğimiz bir diğer veri tipi ise stringlerdir:"
   ]
  },
  {
   "cell_type": "code",
   "execution_count": 12,
   "metadata": {},
   "outputs": [
    {
     "name": "stdout",
     "output_type": "stream",
     "text": [
      "Hüseyin\n"
     ]
    }
   ],
   "source": [
    "isim = \"Hüseyin\"\n",
    "\n",
    "print(isim)"
   ]
  },
  {
   "cell_type": "markdown",
   "metadata": {},
   "source": [
    "Stringleri birleştirmek için toplama işaretini kullanabiliriz:"
   ]
  },
  {
   "cell_type": "code",
   "execution_count": 13,
   "metadata": {},
   "outputs": [
    {
     "name": "stdout",
     "output_type": "stream",
     "text": [
      "HüseyinAverbek\n"
     ]
    }
   ],
   "source": [
    "isim = \"Hüseyin\"\n",
    "soyisim = \"Averbek\"\n",
    "\n",
    "kişi = isim + soyisim\n",
    "\n",
    "print(kişi)"
   ]
  },
  {
   "cell_type": "markdown",
   "metadata": {},
   "source": [
    "Burada \"Hüseyin\" stringinin sonunda veya \"Averbek\" stringinin başında boşluk bulunmadığı için program, ismi ve soyismi  bitişik yazdırdı. Bu durumun önüne geçmek için string birleştirme işlemimize  \" \"  (boşluk) elemanını ekleyebiliriz:"
   ]
  },
  {
   "cell_type": "code",
   "execution_count": 14,
   "metadata": {},
   "outputs": [
    {
     "name": "stdout",
     "output_type": "stream",
     "text": [
      "Hüseyin Averbek\n"
     ]
    }
   ],
   "source": [
    "isim = \"Hüseyin\"\n",
    "soyisim = \"Averbek\"\n",
    "\n",
    "kişi = isim + \" \" + soyisim\n",
    "\n",
    "print(kişi)"
   ]
  },
  {
   "cell_type": "markdown",
   "metadata": {},
   "source": [
    "Uyarı: Tırnak işareti kullanılmadan yazılan sayılar ile stringler toplama işaretiyle birleştirilemez!"
   ]
  },
  {
   "cell_type": "code",
   "execution_count": 15,
   "metadata": {},
   "outputs": [
    {
     "ename": "TypeError",
     "evalue": "can only concatenate str (not \"int\") to str",
     "output_type": "error",
     "traceback": [
      "\u001b[1;31m---------------------------------------------------------------------------\u001b[0m",
      "\u001b[1;31mTypeError\u001b[0m                                 Traceback (most recent call last)",
      "\u001b[1;32m<ipython-input-15-44cd13e20d0a>\u001b[0m in \u001b[0;36m<module>\u001b[1;34m\u001b[0m\n\u001b[0;32m      2\u001b[0m \u001b[0myaş\u001b[0m \u001b[1;33m=\u001b[0m \u001b[1;36m21\u001b[0m\u001b[1;33m\u001b[0m\u001b[1;33m\u001b[0m\u001b[0m\n\u001b[0;32m      3\u001b[0m \u001b[1;33m\u001b[0m\u001b[0m\n\u001b[1;32m----> 4\u001b[1;33m \u001b[0misim_yaş\u001b[0m \u001b[1;33m=\u001b[0m \u001b[0misim\u001b[0m \u001b[1;33m+\u001b[0m \u001b[1;34m\" \"\u001b[0m \u001b[1;33m+\u001b[0m \u001b[0myaş\u001b[0m\u001b[1;33m\u001b[0m\u001b[1;33m\u001b[0m\u001b[0m\n\u001b[0m\u001b[0;32m      5\u001b[0m \u001b[1;33m\u001b[0m\u001b[0m\n\u001b[0;32m      6\u001b[0m \u001b[0mprint\u001b[0m\u001b[1;33m(\u001b[0m\u001b[0misim_yaş\u001b[0m\u001b[1;33m)\u001b[0m\u001b[1;33m\u001b[0m\u001b[1;33m\u001b[0m\u001b[0m\n",
      "\u001b[1;31mTypeError\u001b[0m: can only concatenate str (not \"int\") to str"
     ]
    }
   ],
   "source": [
    "isim = \"Hüseyin\"\n",
    "yaş = 21\n",
    "\n",
    "isim_yaş = isim + \" \" + yaş\n",
    "\n",
    "print(isim_yaş)"
   ]
  },
  {
   "cell_type": "markdown",
   "metadata": {},
   "source": [
    "Yukarıdaki hatayı almamızın sebebi [ isim_yaş = isim + \" \" + yaş ] satırında bir stringle bir tam sayıyı toplamaya çalışmamız. Bu durumun önüne geçmek için tamsayı değerimiz tırnak içine alınabilir. Böylelikle 2 stringi birleştirebiliriz:"
   ]
  },
  {
   "cell_type": "code",
   "execution_count": 2,
   "metadata": {},
   "outputs": [
    {
     "name": "stdout",
     "output_type": "stream",
     "text": [
      "Hüseyin 21\n"
     ]
    }
   ],
   "source": [
    "isim = \"Hüseyin\"\n",
    "yaş = \"21\"\n",
    "\n",
    "isim_yaş = isim + \" \" + yaş\n",
    "\n",
    "print(isim_yaş)"
   ]
  },
  {
   "cell_type": "markdown",
   "metadata": {},
   "source": [
    "# Veri Tipleri"
   ]
  },
  {
   "cell_type": "markdown",
   "metadata": {},
   "source": [
    "Python'da farklı verileri tutmak için farklı veri tiplerinde değişkenler kullanılır. En sık kullanılanları harfleri tutmak için string (str), tamsayıları tutmak için integer (int), ve rasyonel sayıları tutmak için float'tır (float)."
   ]
  },
  {
   "cell_type": "markdown",
   "metadata": {},
   "source": [
    "### type() Fonksiyonu"
   ]
  },
  {
   "cell_type": "markdown",
   "metadata": {},
   "source": [
    "Python'da bir değişkenin veya ifadenin hangi veri tipinden olduğunu görmek için type() fonksiyonu kullanılır."
   ]
  },
  {
   "cell_type": "code",
   "execution_count": 3,
   "metadata": {},
   "outputs": [
    {
     "name": "stdout",
     "output_type": "stream",
     "text": [
      "<class 'int'>\n"
     ]
    }
   ],
   "source": [
    "a = 3\n",
    "print(type(a))"
   ]
  },
  {
   "cell_type": "markdown",
   "metadata": {},
   "source": [
    "type() fonksiyonunun değeri değişkene atanmadan da print() fonksiyonu içinde kullanılabilir. Python matematikteki bileşke fonksiyon mantığıyla içten dışa fonksiyonların işlevini yerine getirir. g [f(x)] = (g o f) (x)"
   ]
  },
  {
   "cell_type": "code",
   "execution_count": 4,
   "metadata": {},
   "outputs": [
    {
     "name": "stdout",
     "output_type": "stream",
     "text": [
      "<class 'str'>\n"
     ]
    }
   ],
   "source": [
    "b = \"merhaba\"\n",
    "print(type(b))"
   ]
  },
  {
   "cell_type": "code",
   "execution_count": 5,
   "metadata": {},
   "outputs": [
    {
     "name": "stdout",
     "output_type": "stream",
     "text": [
      "<class 'float'>\n"
     ]
    }
   ],
   "source": [
    "c = 12.5\n",
    "print(type(c))"
   ]
  },
  {
   "cell_type": "markdown",
   "metadata": {},
   "source": [
    "# Input() Fonksiyonu"
   ]
  },
  {
   "cell_type": "markdown",
   "metadata": {},
   "source": [
    "Bir programın en önemli fonksiyonlarından bir diğeri ise kullanıcıyla iletişime geçebilmesidir. Python'da kullanıcıdan değer girmesini talep etmek için input() fonksiyonu kullanılır.\n",
    "\n",
    "input() fonksiyonu ile programa dışarıdan veri alınır. Alınan bu veri programda daha sonra kullanılmak üzere bir değişkene atanır. Input() fonksiyonuna parametre olarak girilen değer kullanıcıdan input almadan önce ekrana bastırılır:"
   ]
  },
  {
   "cell_type": "code",
   "execution_count": 8,
   "metadata": {},
   "outputs": [
    {
     "name": "stdout",
     "output_type": "stream",
     "text": [
      "Lütfen bir sayı giriniz:5\n",
      "5\n"
     ]
    }
   ],
   "source": [
    "n = input(\"Lütfen bir sayı giriniz:\")\n",
    "print(n)"
   ]
  },
  {
   "cell_type": "code",
   "execution_count": 9,
   "metadata": {},
   "outputs": [
    {
     "name": "stdout",
     "output_type": "stream",
     "text": [
      "Lütfen bir string giriniz:ITU ACM Python Kursu\n",
      "ITU ACM Python Kursu\n"
     ]
    }
   ],
   "source": [
    "n = input(\"Lütfen bir string giriniz:\")\n",
    "print(n)"
   ]
  },
  {
   "cell_type": "markdown",
   "metadata": {},
   "source": [
    "Input fonksiyonuna herhangi bir parametre vermeden de çalıştırabiliriz. Bu durumda kullanıcının ekranın bir bilgilendirme mesajı belirmeyecektir:"
   ]
  },
  {
   "cell_type": "code",
   "execution_count": 6,
   "metadata": {},
   "outputs": [
    {
     "name": "stdout",
     "output_type": "stream",
     "text": [
      "5\n",
      "<class 'str'>\n"
     ]
    }
   ],
   "source": [
    "girilenDeger = input()\n",
    "print(type(girilenDeger))"
   ]
  },
  {
   "cell_type": "markdown",
   "metadata": {},
   "source": [
    "Burada görüldüğü gibi input fonksiyonu aldığı inputları her zaman string türünde alır. Yukarıdaki örnekte de görüldüğü gibi girdiğimiz değer bir tamsayı olan 5 olmasına rağmen program bu değerin tipini string olarak algıladı. Tamsayıları, rasyonel sayıları ve stringleri birbirinden ayırmanın yolu ise type casting yöntemidir."
   ]
  },
  {
   "cell_type": "markdown",
   "metadata": {},
   "source": [
    "## Type Casting"
   ]
  },
  {
   "cell_type": "markdown",
   "metadata": {},
   "source": [
    "Python'da input halinde gelen değerleri farklı veri tiplerine çevirmek için kullanılır. int(), float(), ve str(); input() fonksiyonundan gelen veriyi istenen veri tipine çevirmek için kullanılır. Type casting yapmadan aldığımız inputları stringten istediğimiz veri tipine dönüştüremeyiz ve bu durumda istenilen işlemleri yaparken hata alabiliriz."
   ]
  },
  {
   "cell_type": "code",
   "execution_count": 31,
   "metadata": {},
   "outputs": [
    {
     "name": "stdout",
     "output_type": "stream",
     "text": [
      "5\n",
      "<class 'int'>\n"
     ]
    }
   ],
   "source": [
    "n = int(input())\n",
    "print(type(n))"
   ]
  },
  {
   "cell_type": "markdown",
   "metadata": {},
   "source": [
    "Casting yapmadığımız takdirde karşılaşabileceğimiz sorunlara örnek vermek gerekirse:"
   ]
  },
  {
   "cell_type": "code",
   "execution_count": 10,
   "metadata": {},
   "outputs": [
    {
     "name": "stdout",
     "output_type": "stream",
     "text": [
      "Birinci sayı:3\n",
      "İkinci sayı:5\n",
      "35\n"
     ]
    }
   ],
   "source": [
    "a = input(\"Birinci sayı:\")\n",
    "b = input(\"İkinci sayı:\")\n",
    "\n",
    "toplam = a + b\n",
    "print(toplam)"
   ]
  },
  {
   "cell_type": "markdown",
   "metadata": {},
   "source": [
    "Yukarıda da görüldüğü gibi toplama işlemi yapmak istediğimiz halde aldığımız inputları int (tam sayı) veri tipine dönüştürmediğimiz için string birleştirme işlemi gerçekleştirdik. Bu durumun önüne geçmek için önce aldığımız inputları int veri tipine dönüştürmemiz gerekir:"
   ]
  },
  {
   "cell_type": "code",
   "execution_count": 11,
   "metadata": {},
   "outputs": [
    {
     "name": "stdout",
     "output_type": "stream",
     "text": [
      "Birinci sayı:3\n",
      "İkinci sayı:5\n",
      "8\n"
     ]
    }
   ],
   "source": [
    "a = int(input(\"Birinci sayı:\"))\n",
    "b = int(input(\"İkinci sayı:\"))\n",
    "\n",
    "toplam = a + b\n",
    "print(toplam)"
   ]
  },
  {
   "cell_type": "markdown",
   "metadata": {},
   "source": [
    "Burada dikkat edilmesi gereken önemli nokta veri tiplerini karıştırmamaktır. Aksi takdirde hatayla karşılaşabiliriz:"
   ]
  },
  {
   "cell_type": "code",
   "execution_count": 33,
   "metadata": {},
   "outputs": [
    {
     "name": "stdout",
     "output_type": "stream",
     "text": [
      "Python3\n"
     ]
    },
    {
     "ename": "ValueError",
     "evalue": "invalid literal for int() with base 10: 'Python3'",
     "output_type": "error",
     "traceback": [
      "\u001b[1;31m---------------------------------------------------------------------------\u001b[0m",
      "\u001b[1;31mValueError\u001b[0m                                Traceback (most recent call last)",
      "\u001b[1;32m<ipython-input-33-93ddc6c45b1a>\u001b[0m in \u001b[0;36m<module>\u001b[1;34m\u001b[0m\n\u001b[1;32m----> 1\u001b[1;33m \u001b[0mn\u001b[0m \u001b[1;33m=\u001b[0m \u001b[0mint\u001b[0m\u001b[1;33m(\u001b[0m\u001b[0minput\u001b[0m\u001b[1;33m(\u001b[0m\u001b[1;33m)\u001b[0m\u001b[1;33m)\u001b[0m\u001b[1;33m\u001b[0m\u001b[1;33m\u001b[0m\u001b[0m\n\u001b[0m\u001b[0;32m      2\u001b[0m \u001b[0mprint\u001b[0m\u001b[1;33m(\u001b[0m\u001b[0mn\u001b[0m\u001b[1;33m)\u001b[0m\u001b[1;33m\u001b[0m\u001b[1;33m\u001b[0m\u001b[0m\n",
      "\u001b[1;31mValueError\u001b[0m: invalid literal for int() with base 10: 'Python3'"
     ]
    }
   ],
   "source": [
    "n = int(input())\n",
    "print(n)"
   ]
  }
 ],
 "metadata": {
  "kernelspec": {
   "display_name": "Python 3",
   "language": "python",
   "name": "python3"
  },
  "language_info": {
   "codemirror_mode": {
    "name": "ipython",
    "version": 3
   },
   "file_extension": ".py",
   "mimetype": "text/x-python",
   "name": "python",
   "nbconvert_exporter": "python",
   "pygments_lexer": "ipython3",
   "version": "3.8.3"
  }
 },
 "nbformat": 4,
 "nbformat_minor": 2
}
